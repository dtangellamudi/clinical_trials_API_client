{
 "cells": [
  {
   "cell_type": "code",
   "execution_count": 1,
   "metadata": {},
   "outputs": [],
   "source": [
    "#Import Libraries\n",
    "import requests\n",
    "import pandas as pd\n",
    "import xml.etree.ElementTree as ET"
   ]
  },
  {
   "cell_type": "code",
   "execution_count": null,
   "metadata": {},
   "outputs": [],
   "source": [
    "url = \"https://classic.clinicaltrials.gov/api/info/study_fields_list\"\n",
    "response = requests.get(url)\n",
    "print(response.status_code)\n",
    "\n",
    "if response.status_code == 200:\n",
    "    xml_content = response.text\n",
    "    root = ET.fromstring(xml_content)\n",
    "else:\n",
    "    print(f\"Error: Unable to fetch data. Status code: {response.status_code}\")"
   ]
  },
  {
   "cell_type": "code",
   "execution_count": null,
   "metadata": {},
   "outputs": [],
   "source": [
    "study_fields = []\n",
    "for field in root.findall('.//Field'):\n",
    "    field_name = field.get('Name')\n",
    "    study_fields.append(field_name)\n",
    "\n",
    "data = {'Study Fields': study_fields}\n",
    "study_fields_df = pd.DataFrame(data)\n",
    "study_fields_df.to_csv('study_fields.csv')\n"
   ]
  }
 ],
 "metadata": {
  "kernelspec": {
   "display_name": "AZ_research",
   "language": "python",
   "name": "python3"
  },
  "language_info": {
   "codemirror_mode": {
    "name": "ipython",
    "version": 3
   },
   "file_extension": ".py",
   "mimetype": "text/x-python",
   "name": "python",
   "nbconvert_exporter": "python",
   "pygments_lexer": "ipython3",
   "version": "3.10.8"
  }
 },
 "nbformat": 4,
 "nbformat_minor": 2
}
